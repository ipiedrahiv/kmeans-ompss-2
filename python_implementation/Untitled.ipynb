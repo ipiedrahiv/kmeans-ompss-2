{
 "cells": [
  {
   "cell_type": "code",
   "execution_count": 1,
   "id": "ebeb30f9-bccd-425c-93f3-df2085f00d9e",
   "metadata": {},
   "outputs": [],
   "source": [
    "import time"
   ]
  },
  {
   "cell_type": "code",
   "execution_count": 2,
   "id": "436ec3ab-2db7-4529-a69e-5e591d82304c",
   "metadata": {},
   "outputs": [
    {
     "data": {
      "text/plain": [
       "271959"
      ]
     },
     "execution_count": 2,
     "metadata": {},
     "output_type": "execute_result"
    }
   ],
   "source": [
    "a = time.monotonic_ns()\n",
    "for i in range (100):\n",
    "    pass\n",
    "b = time.monotonic_ns()\n",
    "b-a"
   ]
  },
  {
   "cell_type": "code",
   "execution_count": null,
   "id": "4b272b0b-071e-4148-8d8a-551fccf43aaf",
   "metadata": {},
   "outputs": [],
   "source": []
  }
 ],
 "metadata": {
  "kernelspec": {
   "display_name": "Python 3 (ipykernel)",
   "language": "python",
   "name": "python3"
  },
  "language_info": {
   "codemirror_mode": {
    "name": "ipython",
    "version": 3
   },
   "file_extension": ".py",
   "mimetype": "text/x-python",
   "name": "python",
   "nbconvert_exporter": "python",
   "pygments_lexer": "ipython3",
   "version": "3.9.13"
  }
 },
 "nbformat": 4,
 "nbformat_minor": 5
}
