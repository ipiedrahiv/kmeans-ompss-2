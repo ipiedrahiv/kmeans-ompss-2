{
 "cells": [
  {
   "cell_type": "code",
   "execution_count": 9,
   "id": "fed8b28e-080a-4300-a06f-a9ff4cc45680",
   "metadata": {},
   "outputs": [],
   "source": [
    "from sklearn.datasets import make_blobs\n",
    "import matplotlib.pyplot as plt\n",
    "import numpy as np\n",
    "import pandas as pd\n",
    "from sklearn.cluster import KMeans\n",
    "import seaborn as sns\n",
    "import sys"
   ]
  },
  {
   "cell_type": "code",
   "execution_count": 10,
   "id": "a7b49542-c8d6-4989-947a-f5d3d704f8af",
   "metadata": {},
   "outputs": [],
   "source": [
    "cpp_centroids = np.array([\n",
    "[-1.45565,2.25742],\n",
    "[-3.13238,-1.5436],\n",
    "[-4.99655,-1.97496],\n",
    "[-3.54718,-4.12913],\n",
    "[-3.60029,-4.0108],\n",
    "[-0.96579,0.325723],\n",
    "[-3.42705,-4.12869],\n",
    "]\n",
    ")"
   ]
  },
  {
   "cell_type": "code",
   "execution_count": 11,
   "id": "cc72fa2b-469d-4032-b3b4-2b21c2a5134b",
   "metadata": {},
   "outputs": [],
   "source": [
    "new_cpp_centroids = np.array([\n",
    "[-1.47138,2.33517],\n",
    "[-3.13238,-1.5436],\n",
    "[-4.99655,-1.97496],\n",
    "[-3.56732,-4.14156],\n",
    "[-3.59485,-3.99548],\n",
    "[-0.992335,0.333185],\n",
    "[-3.4241,-4.1138],\n",
    "])"
   ]
  },
  {
   "cell_type": "code",
   "execution_count": null,
   "id": "00887993-0c03-42dc-8c5b-efbed9d8d24f",
   "metadata": {},
   "outputs": [],
   "source": [
    "X = pd.read_csv(\"uniform_small_2d_lowstddev/uniform_small_2d_lowstddev_samples.csv\", names = ['F1', 'F2']).to_numpy()\n",
    "\n",
    "cluster_centers = np.array([[-1.08756, 0.480849], [-3.12783, -1.43567], [-4.99813, -1.80588], [-3.5161, -4.12267], [-3.60242, -4.02816], [-0.912942, 0.309218], [-3.4735, -4.13939]])\n",
    "\n",
    "\n",
    "kmeans_kwargs = {\n",
    "    \"n_clusters\": 7,\n",
    "    \"init\": cluster_centers, # How centroids will be initialized\n",
    "    \"n_init\": 1, # How many times k-means will be run with != starting \n",
    "    \"verbose\": \"Ture\",\n",
    "    \"tol\": 0.0001,\n",
    "    \"algorithm\": \"lloyd\",\n",
    "}\n",
    "\n",
    "with open('out.txt', 'w') as f:\n",
    "\n",
    "    def tracefunc(frame, event, arg, indent=[0]):\n",
    "        if event == \"call\":\n",
    "            indent[0] += 2\n",
    "            print(\"-\" * indent[0] + \"> call function\", frame.f_code.co_name)\n",
    "        elif event == \"return\":\n",
    "            print(\"<\" + \"-\" * indent[0], \"exit function\", frame.f_code.co_name)\n",
    "            indent[0] -= 2\n",
    "        return tracefunc\n",
    " \n",
    "sys.setprofile(tracefunc)\n",
    "\n",
    "kmeans = KMeans( **kmeans_kwargs)\n",
    "A = kmeans.fit(X)\n",
    "kmeans.cluster_centers_"
   ]
  },
  {
   "cell_type": "code",
   "execution_count": 12,
   "id": "1c7be0b2-744c-4db4-a99e-4fa99da6deb4",
   "metadata": {},
   "outputs": [
    {
     "data": {
      "text/plain": [
       "array([[-5.85326375e-02,  2.79289085e-01],\n",
       "       [ 1.83526512e-06, -3.35108368e-06],\n",
       "       [-7.57177229e-07,  1.67239564e-06],\n",
       "       [-6.40571487e-03, -2.17082282e-02],\n",
       "       [ 6.96121449e-03,  3.12020628e-03],\n",
       "       [-4.01996394e-02,  6.48806099e-02],\n",
       "       [ 2.60307523e-03,  2.62716668e-02]])"
      ]
     },
     "execution_count": 12,
     "metadata": {},
     "output_type": "execute_result"
    }
   ],
   "source": [
    "kmeans.cluster_centers_ - new_cpp_centroids"
   ]
  },
  {
   "cell_type": "code",
   "execution_count": 6,
   "id": "0ea06e23-62e8-46db-9cef-5e060f37c9cb",
   "metadata": {},
   "outputs": [
    {
     "data": {
      "text/plain": [
       "array([[ 0.01573 , -0.07775 ],\n",
       "       [ 0.      ,  0.      ],\n",
       "       [ 0.      ,  0.      ],\n",
       "       [ 0.02014 ,  0.01243 ],\n",
       "       [-0.00544 , -0.01532 ],\n",
       "       [ 0.026545, -0.007462],\n",
       "       [-0.00295 , -0.01489 ]])"
      ]
     },
     "execution_count": 6,
     "metadata": {},
     "output_type": "execute_result"
    }
   ],
   "source": [
    "cpp_centroids - new_cpp_centroids"
   ]
  },
  {
   "cell_type": "code",
   "execution_count": 7,
   "id": "c77b1d31-f3a4-44ae-978d-67e71413b2ef",
   "metadata": {},
   "outputs": [
    {
     "data": {
      "text/html": [
       "<div>\n",
       "<style scoped>\n",
       "    .dataframe tbody tr th:only-of-type {\n",
       "        vertical-align: middle;\n",
       "    }\n",
       "\n",
       "    .dataframe tbody tr th {\n",
       "        vertical-align: top;\n",
       "    }\n",
       "\n",
       "    .dataframe thead th {\n",
       "        text-align: right;\n",
       "    }\n",
       "</style>\n",
       "<table border=\"1\" class=\"dataframe\">\n",
       "  <thead>\n",
       "    <tr style=\"text-align: right;\">\n",
       "      <th></th>\n",
       "      <th>0</th>\n",
       "      <th>1</th>\n",
       "    </tr>\n",
       "  </thead>\n",
       "  <tbody>\n",
       "    <tr>\n",
       "      <th>0</th>\n",
       "      <td>-0.829780</td>\n",
       "      <td>2.203245</td>\n",
       "    </tr>\n",
       "    <tr>\n",
       "      <th>1</th>\n",
       "      <td>-4.998856</td>\n",
       "      <td>-1.976674</td>\n",
       "    </tr>\n",
       "    <tr>\n",
       "      <th>2</th>\n",
       "      <td>-3.532441</td>\n",
       "      <td>-4.076614</td>\n",
       "    </tr>\n",
       "    <tr>\n",
       "      <th>3</th>\n",
       "      <td>-3.137398</td>\n",
       "      <td>-1.544393</td>\n",
       "    </tr>\n",
       "    <tr>\n",
       "      <th>4</th>\n",
       "      <td>-1.032325</td>\n",
       "      <td>0.388167</td>\n",
       "    </tr>\n",
       "    <tr>\n",
       "      <th>5</th>\n",
       "      <td>-0.808055</td>\n",
       "      <td>1.852195</td>\n",
       "    </tr>\n",
       "    <tr>\n",
       "      <th>6</th>\n",
       "      <td>-2.955478</td>\n",
       "      <td>3.781174</td>\n",
       "    </tr>\n",
       "  </tbody>\n",
       "</table>\n",
       "</div>"
      ],
      "text/plain": [
       "          0         1\n",
       "0 -0.829780  2.203245\n",
       "1 -4.998856 -1.976674\n",
       "2 -3.532441 -4.076614\n",
       "3 -3.137398 -1.544393\n",
       "4 -1.032325  0.388167\n",
       "5 -0.808055  1.852195\n",
       "6 -2.955478  3.781174"
      ]
     },
     "execution_count": 7,
     "metadata": {},
     "output_type": "execute_result"
    }
   ],
   "source": [
    "centers = pd.read_csv(\"uniform_small_2d_lowstddev/uniform_small_2d_lowstddev_centers.csv\", header = None)\n",
    "centers"
   ]
  },
  {
   "cell_type": "code",
   "execution_count": 8,
   "id": "154ec9ca-95b4-45b2-add9-2c862fe9f794",
   "metadata": {},
   "outputs": [
    {
     "data": {
      "text/plain": [
       "array([6, 5, 0, ..., 0, 5, 5], dtype=int32)"
      ]
     },
     "execution_count": 8,
     "metadata": {},
     "output_type": "execute_result"
    }
   ],
   "source": [
    "results = kmeans.labels_\n",
    "results"
   ]
  },
  {
   "cell_type": "code",
   "execution_count": 9,
   "id": "5b3b039b-9646-4940-9ec9-964897104810",
   "metadata": {},
   "outputs": [
    {
     "data": {
      "image/png": "[encoded data removed]",
      "text/plain": [
       "<Figure size 640x480 with 1 Axes>"
      ]
     },
     "metadata": {},
     "output_type": "display_data"
    }
   ],
   "source": [
    "df = pd.DataFrame(dict(x=X[:,0], y=X[:,1], c=results))\n",
    "sns.scatterplot(x=df[\"x\"], y=df[\"y\"], \n",
    "                hue=df[\"c\"], \n",
    "                palette=sns.color_palette(\"tab10\", n_colors=7))\n",
    "\n",
    "plt.show()"
   ]
  },
  {
   "cell_type": "code",
   "execution_count": 16,
   "id": "e3f4422e-a1be-4aae-8437-b8081f23bd29",
   "metadata": {},
   "outputs": [],
   "source": [
    "cluster_centers = np.array([[-1.08756, 0.480849], [-3.12783, -1.43567], [-4.99813, -1.80588], [-3.5161, -4.12267], [-3.60242, -4.02816], [-0.912942, 0.309218], [-3.4735, -4.13939]])"
   ]
  },
  {
   "cell_type": "code",
   "execution_count": 54,
   "id": "78bb379e-129e-4cf2-8aa0-37024535f538",
   "metadata": {},
   "outputs": [
    {
     "data": {
      "text/plain": [
       "array([1, 1, 1, 1, 1, 1, 1])"
      ]
     },
     "execution_count": 54,
     "metadata": {},
     "output_type": "execute_result"
    }
   ],
   "source": [
    "#center_shift = np.zeros(7, dtype=X.dtype)\n",
    "center_shift = np.array([1, 1, 1, 1, 1, 1, 1])\n",
    "center_shift"
   ]
  },
  {
   "cell_type": "code",
   "execution_count": 55,
   "id": "136ccf41-b0bc-4c30-8603-81d4d08a5429",
   "metadata": {},
   "outputs": [
    {
     "data": {
      "text/plain": [
       "7"
      ]
     },
     "execution_count": 55,
     "metadata": {},
     "output_type": "execute_result"
    }
   ],
   "source": [
    "center_shift_tot = (center_shift**2).sum()\n",
    "center_shift_tot"
   ]
  },
  {
   "cell_type": "code",
   "execution_count": 56,
   "id": "4feae012-049e-4b76-9ede-ccd3fcb89fb1",
   "metadata": {},
   "outputs": [
    {
     "data": {
      "text/plain": [
       "1.5627183408390237"
      ]
     },
     "execution_count": 56,
     "metadata": {},
     "output_type": "execute_result"
    }
   ],
   "source": [
    "X.max()"
   ]
  },
  {
   "cell_type": "code",
   "execution_count": 10,
   "id": "5292afc0-5e2d-474a-9c02-9aca7794ab3c",
   "metadata": {},
   "outputs": [
    {
     "data": {
      "text/plain": [
       "6.025185545419654"
      ]
     },
     "execution_count": 10,
     "metadata": {},
     "output_type": "execute_result"
    }
   ],
   "source": [
    "np.var(X)"
   ]
  },
  {
   "cell_type": "code",
   "execution_count": 11,
   "id": "3192a841-c98a-4281-affc-540507ddb290",
   "metadata": {},
   "outputs": [
    {
     "data": {
      "text/plain": [
       "array([2.25513811, 6.52248828])"
      ]
     },
     "execution_count": 11,
     "metadata": {},
     "output_type": "execute_result"
    }
   ],
   "source": [
    "variances = np.var(X, axis=0)\n",
    "variances"
   ]
  },
  {
   "cell_type": "code",
   "execution_count": 8,
   "id": "1d0fa7c5-aa12-49a4-86c1-7c8c2a951158",
   "metadata": {},
   "outputs": [
    {
     "name": "stdout",
     "output_type": "stream",
     "text": [
      "Name: sklearn\n",
      "Version: 0.0.post1\n",
      "Summary: deprecated sklearn package, use scikit-learn instead\n",
      "Home-page: \n",
      "Author: \n",
      "Author-email: \n",
      "License: \n",
      "Location: /home/bscuser/anaconda3/lib/python3.9/site-packages\n",
      "Requires: \n",
      "Required-by: \n"
     ]
    }
   ],
   "source": [
    "!pip show sklearn"
   ]
  },
  {
   "cell_type": "code",
   "execution_count": null,
   "id": "a3ce73e4-17ef-41f8-9536-81174ac8f558",
   "metadata": {},
   "outputs": [],
   "source": []
  }
 ],
 "metadata": {
  "kernelspec": {
   "display_name": "Python 3 (ipykernel)",
   "language": "python",
   "name": "python3"
  },
  "language_info": {
   "codemirror_mode": {
    "name": "ipython",
    "version": 3
   },
   "file_extension": ".py",
   "mimetype": "text/x-python",
   "name": "python",
   "nbconvert_exporter": "python",
   "pygments_lexer": "ipython3",
   "version": "3.9.13"
  }
 },
 "nbformat": 4,
 "nbformat_minor": 5
}
